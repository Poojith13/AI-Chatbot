{
  "nbformat": 4,
  "nbformat_minor": 0,
  "metadata": {
    "colab": {
      "provenance": [],
      "authorship_tag": "ABX9TyNzCxuzCNB4qlS/nl/vg5FO",
      "include_colab_link": true
    },
    "kernelspec": {
      "name": "python3",
      "display_name": "Python 3"
    },
    "language_info": {
      "name": "python"
    }
  },
  "cells": [
    {
      "cell_type": "markdown",
      "metadata": {
        "id": "view-in-github",
        "colab_type": "text"
      },
      "source": [
        "<a href=\"https://colab.research.google.com/github/Poojith13/AI-Chatbot/blob/main/tensorflow_simple_ai_predict.ipynb\" target=\"_parent\"><img src=\"https://colab.research.google.com/assets/colab-badge.svg\" alt=\"Open In Colab\"/></a>"
      ]
    },
    {
      "cell_type": "code",
      "execution_count": 2,
      "metadata": {
        "id": "Qh2O62N5h11x"
      },
      "outputs": [],
      "source": [
        "import tensorflow as tf\n",
        "from tensorflow.keras import layer, models\n",
        "import matplotlib.pyplot as plt\n",
        "from tensorflow.keras.preprocessing.image import ImageDataGenerator\n",
        "(x_train, y_train), (x_test, y_test) = tf.keras.datasets.mnist.load_data()\n",
        "x_train, x_test = x_train / 255.0, x_test / 255.0\n",
        "x_train = x_train.reshape(-1, 28 * 28)\n",
        "x_test = x_test.reshape(-1, 28 * 28)\n",
        "datagen = ImageDataGenerator(\n",
        "    rotation_range=10,\n",
        "    zoom_range=.1,\n",
        "    width_shift_range=.1\n",
        "    height_shift_range=.1\n",
        ")\n",
        "datagen.fit(x_train)\n",
        "model = models. Sequential([\n",
        "    layers.Flatten(input_shape=(28, 28)),\n",
        "    layers.Dense(128, activation=tf.keras.layers.LeakyReLU(alpha=0.1))\n",
        "    layers.Dense(64, activation=tf.keras.layers.LeakyReLU(alpha=0.1))\n",
        "    layers.Dense(10, activation='softmax')\n",
        "])\n",
        "model.compile(optimizer='rmspop',\n",
        "              loss='sparse_categorial_crossentropy',\n",
        "              metrics=['accuracy'])\n",
        "model.fit(datagen.flow(x_train, y_train, batch_size=32), epochs=10)\n",
        "test_loss, test_acc = model.evaluate(x_test, y_test)\n",
        "print(f\"Test accuracy: {test_acc}\")\n",
        "predictions = model.predict(x_test)\n",
        "plt.imshow(x_test[0], cmap= plt.cm.binary)\n",
        "plt.title(f\"Predicted: {predictions[0].argmax()}\")\n",
        "plt.show()"
      ]
    }
  ]
}